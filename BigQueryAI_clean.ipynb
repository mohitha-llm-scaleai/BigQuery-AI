{
 "cells": [
  {
   "cell_type": "code",
   "execution_count": null,
   "metadata": {
    "colab": {
     "base_uri": "https://localhost:8080/"
    },
    "id": "wpcnjOh6G7aR",
    "outputId": "a2a656d6-c5d7-4a37-e762-eb69c1ce9246"
   },
   "outputs": [],
   "source": [
    "from google.colab import auth\n",
    "auth.authenticate_user()\n",
    "\n",
    "PROJECT_ID = \"genai-poc-424806\"   # your project\n",
    "LOCATION = \"us\"\n",
    "print(\"OK:\", PROJECT_ID, LOCATION)\n"
   ]
  },
  {
   "cell_type": "code",
   "execution_count": null,
   "metadata": {
    "colab": {
     "base_uri": "https://localhost:8080/"
    },
    "id": "qLeT_5-vHlqC",
    "outputId": "2bcb5d84-8ec0-462b-ea5d-206913fc7b3f"
   },
   "outputs": [],
   "source": [
    "import requests\n",
    "import json\n",
    "from google.colab import auth\n",
    "auth.authenticate_user()\n",
    "\n",
    "# Get access token\n",
    "access_token = !gcloud auth print-access-token\n",
    "access_token = access_token[0]\n",
    "\n",
    "# Create connection via REST API\n",
    "url = f\"https://bigqueryconnection.googleapis.com/v1/projects/genai-poc-424806/locations/US/connections\"\n",
    "headers = {\n",
    "    \"Authorization\": f\"Bearer {access_token}\",\n",
    "    \"Content-Type\": \"application/json\"\n",
    "}\n",
    "data = {\n",
    "    \"connectionId\": \"vertex_conn\",\n",
    "    \"cloudResource\": {}\n",
    "}\n",
    "\n",
    "response = requests.post(url, headers=headers, json=data)\n",
    "print(f\"Response: {response.status_code}\")\n",
    "print(response.json())"
   ]
  },
  {
   "cell_type": "code",
   "execution_count": null,
   "metadata": {
    "id": "ZZL5nmavJIgT"
   },
   "outputs": [],
   "source": [
    "from google.colab import auth\n",
    "auth.authenticate_user()\n"
   ]
  },
  {
   "cell_type": "code",
   "execution_count": null,
   "metadata": {
    "colab": {
     "base_uri": "https://localhost:8080/"
    },
    "id": "ogBHg19ZJfr2",
    "outputId": "bae1dcb6-f598-4587-9589-3bbe239fab6a"
   },
   "outputs": [],
   "source": [
    "!gcloud config set project genai-poc-424806\n",
    "!gcloud auth list\n"
   ]
  },
  {
   "cell_type": "code",
   "execution_count": null,
   "metadata": {
    "colab": {
     "base_uri": "https://localhost:8080/"
    },
    "id": "GcpwbaLUJhz4",
    "outputId": "6c23298b-4c5c-43ea-f452-b65ce2bd05ab"
   },
   "outputs": [],
   "source": [
    "!bq --project_id=genai-poc-424806 mk --connection --location=US \\\n",
    "  --connection_type=CLOUD_RESOURCE vertex_conn\n"
   ]
  },
  {
   "cell_type": "code",
   "execution_count": null,
   "metadata": {
    "colab": {
     "base_uri": "https://localhost:8080/"
    },
    "id": "9Fs0K0mHJy1b",
    "outputId": "d20ee445-8e89-4f86-a262-001d3ff28c51"
   },
   "outputs": [],
   "source": [
    "!bq --project_id=genai-poc-424806 ls --connection --location=US"
   ]
  },
  {
   "cell_type": "code",
   "execution_count": null,
   "metadata": {
    "id": "CBWQaLUtK6Gx"
   },
   "outputs": [],
   "source": [
    "!bq show --format=prettyjson genai-poc-424806:google_patents_research | grep location\n"
   ]
  },
  {
   "cell_type": "code",
   "execution_count": null,
   "metadata": {
    "colab": {
     "base_uri": "https://localhost:8080/"
    },
    "id": "4XieV64hLE5e",
    "outputId": "823a2513-20b9-4178-c9ee-84858096a2b9"
   },
   "outputs": [],
   "source": [
    "!bq ls --project_id=genai-poc-424806\n"
   ]
  },
  {
   "cell_type": "code",
   "execution_count": null,
   "metadata": {
    "colab": {
     "base_uri": "https://localhost:8080/"
    },
    "id": "bkWcka0xLQEp",
    "outputId": "b2652bf8-0181-4adf-a9a3-d005f77bbb39"
   },
   "outputs": [],
   "source": [
    "!bq ls genai-poc-424806:patent_demo\n"
   ]
  },
  {
   "cell_type": "code",
   "execution_count": null,
   "metadata": {
    "colab": {
     "base_uri": "https://localhost:8080/",
     "height": 113,
     "referenced_widgets": [
      "0fca72d5cde64433ba5e1ff052515947",
      "6bd96bd1d61d4e409f7dea99f7e2ca73",
      "7ba3b6a74fcc49f0bf1c592097930294",
      "14e41f9394ac43a0ac9edd3f078290b6",
      "2bb0e65d644642399167d49b32a6ebe0",
      "87e766cb615942a899e080e478f1cb4a",
      "8949ba1936f54146aa873b053588a68b",
      "ee164317d2af49789458075dc7b1e013",
      "0d3c333aad354610b09a1744d566395b",
      "9efc174daa264a74a0c6b865b6b578ed",
      "c7e1efad50d447a88e81ce668fc393d7"
     ]
    },
    "id": "3VrURQrcLapK",
    "outputId": "39eda0ea-e965-4848-bdb0-8a254705c3da"
   },
   "outputs": [],
   "source": [
    "%%bigquery --project genai-poc-424806\n",
    "CREATE OR REPLACE MODEL `patent_demo.embedding_model`\n",
    "  REMOTE WITH CONNECTION `us.vertex_conn`\n",
    "  OPTIONS (ENDPOINT = 'text-embedding-004');  -- or 'gemini-embedding-001'\n"
   ]
  },
  {
   "cell_type": "code",
   "execution_count": null,
   "metadata": {
    "colab": {
     "base_uri": "https://localhost:8080/",
     "height": 113,
     "referenced_widgets": [
      "8ddf34073f694cb7927fd3958c99c631",
      "62c3187f9e9a462991a0a7df3e1c00dd",
      "ce4c260c4f4b4a55ae76d8084e9c1c1f",
      "5dba83a8d1644f679313b7b315eb4aac",
      "b16be58a268441e6b2c0a8709557d3d7",
      "8454f8613de542e4ac874508baedeedf",
      "93cd95e21cc3444693f738895c1052a3",
      "bb2801ba383748ccb9701c2303aa6747",
      "ee56f7d2cc8b440ea59feb79f6a4ce62",
      "5294d6c96d544373b8237bacf70aeac8",
      "ddcc6e934dd7418e842c83cd6ecaffc4"
     ]
    },
    "id": "zNOKbN_TMJFL",
    "outputId": "4ae1f14b-137e-4077-87c9-1dfaf34133a0"
   },
   "outputs": [],
   "source": [
    "%%bigquery --project genai-poc-424806\n",
    "CREATE TABLE IF NOT EXISTS `patent_demo.patent_embeddings` (\n",
    "  publication_number STRING,\n",
    "  title STRING,\n",
    "  abstract STRING,\n",
    "  text_embedding ARRAY<FLOAT64>\n",
    ");\n"
   ]
  },
  {
   "cell_type": "code",
   "execution_count": null,
   "metadata": {
    "colab": {
     "base_uri": "https://localhost:8080/",
     "height": 329,
     "referenced_widgets": [
      "c8eab4babd2640358475b8a5db2b8a04",
      "5d5694e60b53449d9ad445e97f0c0a9a",
      "8a53c209aff642b9836d70d7371602a2",
      "4c051fb05ebf40658be98435a281faaa",
      "e11d9c5d8a93454fa4f8d72776f7d030",
      "738eaa43ceb045c6b179c5f2254fc0ef",
      "fdef76d57d8f4fab9ccd154967564bad",
      "10d720c757a748ca953de2d5b4996623",
      "f8543bd18ab942d3a0854f4b409b3be0",
      "ba9ecfbeb6044af586e04d2818946d42",
      "577174121f5046178df6c075986dfb32",
      "41f58d58f91343959126cf0df9c77ed9",
      "479a37ee60d3463da645bf5c7c0ab505",
      "e0e811098ee34697ba1802a173f491f5",
      "c5ae1a6eaa3d4153b1025a6cff25994f",
      "9905fa9ba5664fbcac925bba35d9dfb3",
      "28fa78b36cb74bd09a9b378e83e5e242",
      "62692b510bda4976a059376e6b2ad61d",
      "1a5428186fd1451b862ea4989997d9ee",
      "f886bb072dec4dffb8b33a788c208acd",
      "1cbf5e3c0cbf46ddb8ed5783d0704c26",
      "435fda453f584318a66ededf5b23fd71"
     ]
    },
    "id": "6xZ9QeNVMfuD",
    "outputId": "88665294-756f-4ffb-96e7-5e32aa7f2006"
   },
   "outputs": [],
   "source": [
    "%%bigquery --project genai-poc-424806\n",
    "SELECT column_name, data_type\n",
    "FROM `genai-poc-424806.patent_demo`.INFORMATION_SCHEMA.COLUMNS\n",
    "WHERE table_name = 'patent_docs'\n",
    "ORDER BY ordinal_position;\n"
   ]
  },
  {
   "cell_type": "code",
   "execution_count": null,
   "metadata": {
    "colab": {
     "base_uri": "https://localhost:8080/",
     "height": 113,
     "referenced_widgets": [
      "d975d1a8517f434bb6bb5843637313a1",
      "4f1e8af048ad45a6a422aa3f619d0611",
      "526ecea28d5c4bdfb738ec15a0169356",
      "98ad62197558449083d705ac7041b703",
      "9c00b479c3b74a7ab123a9c5ca19f315",
      "250f55b7c4a4447b82a36e88185c0745",
      "bc62ebbb678e4cf388f85b74d2f5ffb1",
      "d535b1d4613f486c952c5268e5839924",
      "67f75f4c6e6c44bf89c1e93d30a2c805",
      "e47ae9a9f65748a59f4cc653c9b68ad8",
      "be806d01fc4e433da31da5ffca4bb62d"
     ]
    },
    "id": "10jQ2FWJNDwk",
    "outputId": "376ef604-7769-4f15-856f-56373ddf9d41"
   },
   "outputs": [],
   "source": [
    "%%bigquery --project genai-poc-424806\n",
    "CREATE OR REPLACE TABLE `patent_demo.patent_embeddings` AS\n",
    "WITH src AS (\n",
    "  SELECT\n",
    "    d.publication_number,\n",
    "    CAST(d.title    AS STRING) AS title_text,\n",
    "    CAST(d.abstract AS STRING) AS abstract_text\n",
    "  FROM `patent_demo.patent_docs` d\n",
    "),\n",
    "gen AS (\n",
    "  SELECT\n",
    "    publication_number,\n",
    "    ml_generate_embedding_result AS text_embedding\n",
    "  FROM ML.GENERATE_EMBEDDING(\n",
    "    MODEL `patent_demo.embedding_model`,\n",
    "    (\n",
    "      SELECT\n",
    "        publication_number,\n",
    "        CONCAT(COALESCE(title_text, ''), ' ', COALESCE(abstract_text, '')) AS content\n",
    "      FROM src\n",
    "      WHERE (title_text IS NOT NULL OR abstract_text IS NOT NULL)\n",
    "      ORDER BY publication_number\n",
    "      -- LIMIT 1000  -- ← uncomment for a pilot run first\n",
    "    )\n",
    "  )\n",
    ")\n",
    "SELECT\n",
    "  s.publication_number,\n",
    "  s.title_text   AS title,\n",
    "  s.abstract_text AS abstract,\n",
    "  g.text_embedding\n",
    "FROM gen g\n",
    "JOIN src s USING (publication_number);\n"
   ]
  },
  {
   "cell_type": "code",
   "execution_count": null,
   "metadata": {
    "colab": {
     "base_uri": "https://localhost:8080/",
     "height": 172,
     "referenced_widgets": [
      "983a6072d33c423fa1a55c4730deb9fc",
      "45a356727e6444b49a82e8cb293b2f86",
      "5d0569fd0831491e8cb670a0fa96501e",
      "e8fb965e60bf4c26b44e410c9366c1fd",
      "63d3d54eef764fbd84c89caaeb97d0e4",
      "408d46a8357a47a988db1f076faea317",
      "4923120b45e7432abdb43f0ebc146c70",
      "41d5fdfce86d4213b58d45465ceb0893",
      "9a69212160234b7f890a0b5f120c728b",
      "219905a26e5248c1ad1ce8860e490bf0",
      "910a61c89ee34e0e84d0b276acabce8d",
      "27538fc3c98042bfb3b212f1bf61b928",
      "47111649a3d446c0b99253cdaa88a7e2",
      "422baa73163e4572963612d5fd710fdc",
      "ffa2ea532fc1428fb3d2d06804d7bf29",
      "d8e89820f18e41eeb5088ad7aa3b82d9",
      "fa5298b45deb43e49936ce5230c6f66d",
      "221bedd87503431e8988db30a64534a6",
      "1b8220bca2014b4fbe7626b303bc7b14",
      "74f7b701fe2d4e23ba22b52f036b8351",
      "b29db039f8fa41a28ec32d52f64aa30a",
      "f9adcb3e04244f75b75f59b158f4681d"
     ]
    },
    "id": "rOIvXshsNP0d",
    "outputId": "fffc464b-bd5b-4415-8049-2d1a16c8c866"
   },
   "outputs": [],
   "source": [
    "%%bigquery --project genai-poc-424806\n",
    "SELECT COUNT(*) AS rows_with_embeddings FROM `patent_demo.patent_embeddings`;\n"
   ]
  },
  {
   "cell_type": "code",
   "execution_count": null,
   "metadata": {
    "id": "e3CT4f42cLQ9"
   },
   "outputs": [],
   "source": [
    "import os\n",
    "PROJECT_ID = \"genai-poc-424806\"   # replace with your actual project\n",
    "os.environ[\"PROJECT_ID\"] = PROJECT_ID\n"
   ]
  },
  {
   "cell_type": "code",
   "execution_count": null,
   "metadata": {
    "colab": {
     "base_uri": "https://localhost:8080/",
     "height": 113,
     "referenced_widgets": [
      "84c8977f99d84666b21eb25ccaa1bae6",
      "544b553005a046c6bd6c348fd7f94045",
      "efbb6048e1d4483e964f847cbeae4674",
      "c925994d3bb7410fbae7a5f158c5be1b",
      "2e37f9282e674caa8c2a3cb421282cf4",
      "d3bcb7d083014c0a9f2f1f0babbef97d",
      "79d18256a3e54247ab9427a74bddb237",
      "97c77668e7e043e6a0459a565599e975",
      "c882531674334b7984b8e9cfc6394c44",
      "ca92ec6a4e2443969907fc682177b800",
      "c97fddb22d2841c6b3478da74f423602"
     ]
    },
    "id": "N56js1cBcmIP",
    "outputId": "7451247f-c8fc-46d5-820e-3437069d7d33"
   },
   "outputs": [],
   "source": [
    "%%bigquery --project genai-poc-424806\n",
    "CREATE VECTOR INDEX `patent_demo.idx_patent_embeddings`\n",
    "ON `patent_demo.patent_embeddings`(text_embedding)\n",
    "STORING(publication_number, title, abstract)               -- optional but recommended\n",
    "OPTIONS(\n",
    "  index_type = 'IVF',\n",
    "  distance_type = 'COSINE',\n",
    "  ivf_options = '{\"num_lists\": 500}'                       -- tune as needed (≤ 5000)\n",
    ");\n"
   ]
  },
  {
   "cell_type": "code",
   "execution_count": null,
   "metadata": {
    "colab": {
     "base_uri": "https://localhost:8080/",
     "height": 210,
     "referenced_widgets": [
      "744210ce7be8445aab943e4b0535126e",
      "8b1b04a9e3864438b8d111c6c1772dcc",
      "38fcf4cf38cf417389400b72f0a0dbc1",
      "b89fff7f1b424e1fb22b77c10cef4424",
      "7908bf79afd34a36a6643dba1485f599",
      "46df40547dbc4d0d85199f0f7b7373f5",
      "7a478401bacd40a8b426b2d5f23576d5",
      "4bad9fe263dd438c9801749b9964ad22",
      "1344de013187445c9e0c334ec433946e",
      "ef8afa5f85a64477b2db97b17cc7ff5d",
      "7cc5d4ca8c974ab99811aa32ed1544b1",
      "77ae0f1b52b5446c99599ce4b7d4d117",
      "01d8ac1e5fc34c1da3bbf344de4c33d9",
      "610337e7f9694e68a21b71076536153a",
      "d4b6c09d1ec2472d98a31d3d457d0d56",
      "48b33be5077c4d338fb42e9ab94d1fed",
      "f8b9136a1f60468c862e6afe0a0aa33f",
      "1ed286926dcd4330b728ca457fdf9823",
      "ce9f8e1fbb8a488da58618c53c309e06",
      "ec3210917c5542cfb87b19f994a0265d",
      "3af98ff8a8164e8b99b9c9913df00578",
      "ea2f3394e5b3467abbfda10b56ddb31b"
     ]
    },
    "id": "aOz789t9dLMG",
    "outputId": "3d9ec36c-8833-4c10-c6be-dda46c533949"
   },
   "outputs": [],
   "source": [
    "%%bigquery --project genai-poc-424806\n",
    "-- High-level: one row per vector index in the dataset\n",
    "SELECT *\n",
    "FROM `patent_demo`.INFORMATION_SCHEMA.VECTOR_INDEXES;\n"
   ]
  },
  {
   "cell_type": "code",
   "execution_count": null,
   "metadata": {
    "colab": {
     "base_uri": "https://localhost:8080/",
     "height": 307,
     "referenced_widgets": [
      "ee6140f8868346b0814b1aa09b476c97",
      "e100685e9f374419b65ea16b388c708f",
      "ea45cd9a657346b9959ce077b9f9e5ea",
      "341ea66356704d4399c4d4fca141212f",
      "8e8839e22eeb4107b404b852cd7f6143",
      "f37c1c7c09c54877b1d6bcc8e008b792",
      "b314a023cadd4267ac6b2aa534b4d251",
      "71b0ca8d64cb4691a6e59764d8b1d63c",
      "8b73dda31f5e4384bbe4d3d135b6ec61",
      "fa2aeebc6ccf43c38f08071ced9ff69f",
      "bf91871532864caeb4a88259fa44c794",
      "9195daf2106a49fa8648357b3e94e92d",
      "4d2b551940a84668a7b9ab1a73275e97",
      "bf73b164d9bc4d63b88a7f41a18efc69",
      "3c86dba813b04c84b281c074e3de7d06",
      "425ffdf711224352b41808c8628597d8",
      "7931da38e40c4d068df4edc9656c3e3a",
      "26755e50af86409ca3fa925a7a8189f5",
      "5f14c9657cd44a98bd4b45490d3059fe",
      "b97fbff094c144deab63fb794a498434",
      "b150f465c2724f1aba130dba27e87026",
      "323d975686ab4baa88c5452b527c5d05"
     ]
    },
    "id": "7vIhHIOAdgju",
    "outputId": "784122b2-e5bf-4581-f314-7e1d793343b2"
   },
   "outputs": [],
   "source": [
    "%%bigquery --project genai-poc-424806\n",
    "-- Options actually applied (index_type, distance_type, IVF params, etc.)\n",
    "SELECT *\n",
    "FROM `patent_demo`.INFORMATION_SCHEMA.VECTOR_INDEX_OPTIONS;"
   ]
  },
  {
   "cell_type": "code",
   "execution_count": null,
   "metadata": {
    "colab": {
     "base_uri": "https://localhost:8080/",
     "height": 652,
     "referenced_widgets": [
      "91dd22639efb474fb2bd55c2ce6ca513",
      "9c640015614947009a6c91407f79d85f",
      "413787af0c8f4f9bbfdb2961447eb47e",
      "7d312fc516364c8b9df7c26440bd58d5",
      "ebd6b6a7d3bb4585927cc3461384dcc1",
      "b20a0b3b6d9d428f9d5c8cd2a71050bd",
      "82dad5778e8b4ffc91c479bb4f121610",
      "8c3312fb24eb4fd1b09034ae364e1976",
      "25efdfa2443742beb443090be990db31",
      "5d2da750f1c044c4b262cbe9ca018df5",
      "2ec039266ff04f05aba4b62c79dab9de",
      "c46046ad204a4a99911babb253913054",
      "29d6e5c040c945119f0dc4eee1839b0b",
      "6210fecf9a124ba0ad36b57994ec7e18",
      "b9d0ff977e724e80a5bed5495a8e9f19",
      "6101c089dbf24ed3b27ed9be57e856ee",
      "4adae2b4f552445bb3f235d048066076",
      "a6c24046d5e649908a05b7b700edfd0c",
      "851c4ae86a0242e1a42aa3dbf1762974",
      "cfb3d737b3614203a26e2f073b615209",
      "b9b0777c23cf442693fef9a0379713c7",
      "4b6dbc23c4a94763b7e64136a7650892"
     ]
    },
    "id": "wlkQjSL3eTej",
    "outputId": "7374e654-c07c-42de-fd54-2e24c8b7b9c7"
   },
   "outputs": [],
   "source": [
    "%%bigquery --project genai-poc-424806\n",
    "DECLARE user_query STRING DEFAULT 'battery thermal runaway prevention in EVs';\n",
    "\n",
    "-- Build a \"query table\" with the same column name as the base embedding column\n",
    "WITH q AS (\n",
    "  SELECT ml_generate_embedding_result AS text_embedding\n",
    "  FROM ML.GENERATE_EMBEDDING(\n",
    "    MODEL `patent_demo.embedding_model`,\n",
    "    (SELECT user_query AS content)\n",
    "  )\n",
    ")\n",
    "SELECT\n",
    "  base.publication_number,\n",
    "  base.title,\n",
    "  base.abstract,\n",
    "  distance\n",
    "FROM VECTOR_SEARCH(\n",
    "  TABLE `patent_demo.patent_embeddings`,   -- base table\n",
    "  'text_embedding',                         -- embedding column in base\n",
    "  TABLE q,                                  -- one-row query table with matching column name\n",
    "  top_k => 8,\n",
    "  distance_type => 'COSINE'\n",
    ");\n"
   ]
  },
  {
   "cell_type": "code",
   "execution_count": null,
   "metadata": {
    "colab": {
     "base_uri": "https://localhost:8080/",
     "height": 113,
     "referenced_widgets": [
      "0d725264e6634f57a17cb55e67296daa",
      "b72c5b62fc8c4584a7734c38374f5cba",
      "daf9cac477eb42e49cb5d2f9b4d5c9ad",
      "ec4d306994f24943b4b1ab16545df207",
      "c44205c9909c4f7e828a041c2bb12595",
      "b6bf4f8d76974d9aa8b58889bbc14f63",
      "b3ccd70d894740ff8131575a1ba9be04",
      "a3148df7e1b44c23a1730f74c59a765b",
      "5cdb4b7bbb45430daab64bf99014353f",
      "4332b5458aba4d6e8dd340fbe42615d3",
      "fd0ec0c356674a79bfb4a3a360d139cd"
     ]
    },
    "id": "0WOIO6w1eocS",
    "outputId": "03eb756c-19f8-48d5-915c-e81784cecfa1"
   },
   "outputs": [],
   "source": [
    "%%bigquery --project genai-poc-424806\n",
    "CREATE OR REPLACE MODEL `patent_demo.gemini_text`\n",
    "REMOTE WITH CONNECTION `us.vertex_conn`\n",
    "OPTIONS (ENDPOINT = 'gemini-2.0-flash');\n"
   ]
  },
  {
   "cell_type": "code",
   "execution_count": null,
   "metadata": {
    "colab": {
     "base_uri": "https://localhost:8080/",
     "height": 207,
     "referenced_widgets": [
      "62aad5c91c5242d7a45f75800ac88c9a",
      "e7ca32c423984a4297921e7c0c8f72c7",
      "1ce09a2840f1425c81e0a8720498eaec",
      "be2eedb56900471594776904f90eb2b2",
      "77d434bb0d2b40ec91a700dcfa8230c3",
      "c13c349c032b48ff89a495e786a656b1",
      "bd847cfb86e74a7192fe53c9726f88f2",
      "dce37e545ea342dda686141820f015aa",
      "9a57cb1fc5274e339a3c314f1973d6e8",
      "c61853be20e946e1989ae05e08f8c0e5",
      "3c02c5a1f04d4d319f5a622c7829dda0",
      "f10d3a7ffebb4c10b90e9c537120b4f8",
      "aeab97a62ee8431b9450f4501152ce7e",
      "f73098f64f2f4e6ebe58e9a93566e0e1",
      "5920047ebead4c6cb926a415136a3dc2",
      "f144c55c330d4cff8bb88ae5425d2cf3",
      "1463b1b30895416dbe8a293d3f5707c3",
      "4eb298e1e99d4a2fa7b93690212c4dc7",
      "b5342fbd9c5c4112b3d4da35683e1972",
      "c1cb02e6125c4701b59dfce69b6b004a",
      "c8a3309ee11c42a488093ee01307b1fa",
      "a606c173a7c24fd6a1d56d23b9198a08"
     ]
    },
    "id": "UDLpfGEyg6Lm",
    "outputId": "f9bf4d4b-9e6e-47a7-bc7d-9c86868e3fd5"
   },
   "outputs": [],
   "source": [
    "%%bigquery --project genai-poc-424806\n",
    "DECLARE user_query STRING DEFAULT 'Summarize top innovations that reduce EV battery fire risk.';\n",
    "\n",
    "WITH q AS (\n",
    "  SELECT ml_generate_embedding_result AS text_embedding\n",
    "  FROM ML.GENERATE_EMBEDDING(\n",
    "    MODEL `patent_demo.embedding_model`,\n",
    "    (SELECT user_query AS content)\n",
    "  )\n",
    "),\n",
    "hits AS (\n",
    "  SELECT\n",
    "    base.publication_number,\n",
    "    base.title,\n",
    "    SUBSTR(base.abstract, 1, 1200) AS abstract,\n",
    "    distance\n",
    "  FROM VECTOR_SEARCH(\n",
    "    TABLE `patent_demo.patent_embeddings`,\n",
    "    'text_embedding',\n",
    "    TABLE q,\n",
    "    top_k => 8,\n",
    "    distance_type => 'COSINE'\n",
    "  )\n",
    "  ORDER BY distance\n",
    "),\n",
    "context AS (\n",
    "  SELECT STRING_AGG(\n",
    "    CONCAT('PUB: ', publication_number, '\\nTITLE: ', title, '\\nABSTRACT: ', abstract),\n",
    "    '\\n\\n---\\n\\n'\n",
    "    ORDER BY distance\n",
    "  ) AS ctx\n",
    "  FROM hits\n",
    ")\n",
    "SELECT *\n",
    "FROM ML.GENERATE_TEXT(\n",
    "  MODEL `patent_demo.gemini_text`,\n",
    "  (SELECT CONCAT(\n",
    "      'You are a precise patent analyst. Use ONLY the CONTEXT. ',\n",
    "      'If info is missing, say so. Provide bullet points and cite PUB IDs used.\\n\\n',\n",
    "      'QUESTION: ', user_query, '\\n\\n',\n",
    "      'CONTEXT:\\n', ctx\n",
    "  ) AS prompt FROM context),\n",
    "  STRUCT(0.2 AS temperature, 900 AS max_output_tokens)\n",
    ");\n"
   ]
  },
  {
   "cell_type": "code",
   "execution_count": null,
   "metadata": {
    "colab": {
     "base_uri": "https://localhost:8080/"
    },
    "id": "IQEbr2p3g90z",
    "outputId": "50862cb5-bff9-4395-80ba-743a843dc2be"
   },
   "outputs": [],
   "source": [
    "!bq --project_id=genai-poc-424806 ls -m patent_demo\n"
   ]
  },
  {
   "cell_type": "code",
   "execution_count": null,
   "metadata": {
    "colab": {
     "base_uri": "https://localhost:8080/",
     "height": 697,
     "referenced_widgets": [
      "ecc8fdbc77c74318b416ef6223d665c1",
      "fe492811e6614bd2b99a58f0aace167b",
      "b53e140403b14fd590223f8843a33bab",
      "53e3364e7d344da980a6b731c384105f",
      "2cb904c531cd4534926095885c0ff693",
      "b560a39535a546cb94d6c80b04af068a",
      "51a261e8f3144029851687a1ff7211f4",
      "ce269a94932445c39cd214c5d8340614",
      "8538eafc333346ec8a0f390232079200",
      "2ad68854c5c34d0caf3304838b221722",
      "006b33fdb67f44cc8aed40e1367d31c8"
     ]
    },
    "id": "djYLpvZOhkH9",
    "outputId": "94a3b65f-54ef-4e8c-c67c-185bb1a1f51a"
   },
   "outputs": [],
   "source": [
    "# === Minimal RAG UI for BigQuery + Vertex AI (Colab) ===\n",
    "# Type a query -> get answer (optionally show sources)\n",
    "\n",
    "import os\n",
    "from google.cloud import bigquery\n",
    "import ipywidgets as widgets\n",
    "from IPython.display import display, Markdown\n",
    "import pandas as pd\n",
    "\n",
    "# ------- Configure your project / dataset / models / table -------\n",
    "PROJECT_ID   = \"genai-poc-424806\"\n",
    "DATASET      = \"patent_demo\"\n",
    "EMB_MODEL    = f\"{DATASET}.embedding_model\"   # text-embedding-004\n",
    "LLM_MODEL    = f\"{DATASET}.gemini_text\"       # gemini-2.0-flash\n",
    "EMB_TABLE    = f\"{DATASET}.patent_embeddings\" # has column text_embedding ARRAY<FLOAT64>\n",
    "\n",
    "# UI defaults (you can tweak live)\n",
    "DEFAULT_QUERY      = \"battery thermal runaway prevention in EVs\"\n",
    "TOP_K_DEFAULT      = 5          # 3–8 is a good range\n",
    "MAX_CTX_CHARS      = 1200       # keep abstracts compact to avoid token limits\n",
    "TEMPERATURE        = 0.2        # LITERAL gets embedded into SQL (TVF requires literals)\n",
    "MAX_OUTPUT_TOKENS  = 900        # LITERAL\n",
    "SHOW_SOURCES       = True       # set False to hide the sources table\n",
    "\n",
    "# -----------------------------------------------------------------\n",
    "os.environ[\"GCLOUD_PROJECT\"] = PROJECT_ID\n",
    "bq = bigquery.Client(project=PROJECT_ID)\n",
    "\n",
    "def run_rag(user_query: str,\n",
    "            top_k: int = TOP_K_DEFAULT,\n",
    "            max_ctx_chars: int = MAX_CTX_CHARS,\n",
    "            temperature: float = TEMPERATURE,\n",
    "            max_output_tokens: int = MAX_OUTPUT_TOKENS):\n",
    "    \"\"\"\n",
    "    Runs retrieval -> generation inside BigQuery.\n",
    "    Notes:\n",
    "      - user_query is passed as a parameter\n",
    "      - TVF settings (temperature, max_output_tokens) MUST be literal constants, so we embed them.\n",
    "    \"\"\"\n",
    "    # --- Main query: retrieve -> build context -> generate ---\n",
    "    sql_answer = f\"\"\"\n",
    "    DECLARE user_query STRING DEFAULT @user_query;\n",
    "\n",
    "    WITH q AS (\n",
    "      SELECT ml_generate_embedding_result AS text_embedding\n",
    "      FROM ML.GENERATE_EMBEDDING(\n",
    "        MODEL `{EMB_MODEL}`,\n",
    "        (SELECT user_query AS content)\n",
    "      )\n",
    "    ),\n",
    "    hits AS (\n",
    "      SELECT\n",
    "        base.publication_number,\n",
    "        base.title,\n",
    "        SUBSTR(base.abstract, 1, {max_ctx_chars}) AS abstract,\n",
    "        distance\n",
    "      FROM VECTOR_SEARCH(\n",
    "        TABLE `{EMB_TABLE}`,\n",
    "        'text_embedding',\n",
    "        TABLE q,\n",
    "        top_k => {top_k},\n",
    "        distance_type => 'COSINE'\n",
    "      )\n",
    "      ORDER BY distance\n",
    "    ),\n",
    "    context AS (\n",
    "      SELECT STRING_AGG(\n",
    "        CONCAT('PUB: ', publication_number, '\\\\nTITLE: ', title, '\\\\nABSTRACT: ', abstract),\n",
    "        '\\\\n\\\\n---\\\\n\\\\n' ORDER BY distance\n",
    "      ) AS ctx\n",
    "      FROM hits\n",
    "    ),\n",
    "    gen AS (\n",
    "      SELECT\n",
    "        ml_generate_text_result AS gen_json\n",
    "      FROM ML.GENERATE_TEXT(\n",
    "        MODEL `{LLM_MODEL}`,\n",
    "        (\n",
    "          SELECT CONCAT(\n",
    "            'You are a precise patent analyst. Use ONLY the CONTEXT. ',\n",
    "            'If info is missing, say so. Provide bullet points and cite PUB IDs.\\\\n\\\\n',\n",
    "            'QUESTION: ', user_query, '\\\\n\\\\n',\n",
    "            'CONTEXT:\\\\n', ctx\n",
    "          ) AS prompt\n",
    "          FROM context\n",
    "        ),\n",
    "        STRUCT({temperature} AS temperature, {max_output_tokens} AS max_output_tokens)  -- must be literals\n",
    "      )\n",
    "    )\n",
    "    SELECT JSON_VALUE(gen_json, '$.candidates[0].content.parts[0].text') AS answer\n",
    "    FROM gen;\n",
    "    \"\"\"\n",
    "\n",
    "    job = bq.query(\n",
    "        sql_answer,\n",
    "        job_config=bigquery.QueryJobConfig(\n",
    "            query_parameters=[bigquery.ScalarQueryParameter(\"user_query\", \"STRING\", user_query)]\n",
    "        ),\n",
    "        location=\"US\",\n",
    "    )\n",
    "    answer_df = job.result().to_dataframe()\n",
    "\n",
    "    # --- Optional: fetch sources for display ---\n",
    "    sources_df = pd.DataFrame()\n",
    "    if SHOW_SOURCES:\n",
    "        sql_sources = f\"\"\"\n",
    "        DECLARE user_query STRING DEFAULT @user_query;\n",
    "\n",
    "        WITH q AS (\n",
    "          SELECT ml_generate_embedding_result AS text_embedding\n",
    "          FROM ML.GENERATE_EMBEDDING(\n",
    "            MODEL `{EMB_MODEL}`,\n",
    "            (SELECT user_query AS content)\n",
    "          )\n",
    "        )\n",
    "        SELECT\n",
    "          base.publication_number,\n",
    "          base.title,\n",
    "          distance\n",
    "        FROM VECTOR_SEARCH(\n",
    "          TABLE `{EMB_TABLE}`,\n",
    "          'text_embedding',\n",
    "          TABLE q,\n",
    "          top_k => {top_k},\n",
    "          distance_type => 'COSINE'\n",
    "        )\n",
    "        ORDER BY distance;\n",
    "        \"\"\"\n",
    "        sources_job = bq.query(\n",
    "            sql_sources,\n",
    "            job_config=bigquery.QueryJobConfig(\n",
    "                query_parameters=[bigquery.ScalarQueryParameter(\"user_query\", \"STRING\", user_query)]\n",
    "            ),\n",
    "            location=\"US\",\n",
    "        )\n",
    "        sources_df = sources_job.result().to_dataframe()\n",
    "\n",
    "    answer_text = (answer_df.iloc[0][\"answer\"] if not answer_df.empty else \"\")\n",
    "    return answer_text, sources_df\n",
    "\n",
    "# ----------------------------- UI -----------------------------\n",
    "qbox = widgets.Textarea(\n",
    "    value=DEFAULT_QUERY,\n",
    "    placeholder=\"Type your question…\",\n",
    "    description=\"Query:\",\n",
    "    layout=widgets.Layout(width=\"100%\", height=\"90px\")\n",
    ")\n",
    "topk_slider = widgets.IntSlider(value=TOP_K_DEFAULT, min=1, max=10, step=1, description='top_k:')\n",
    "run_btn = widgets.Button(description=\"Run\", button_style=\"primary\")\n",
    "out = widgets.Output()\n",
    "\n",
    "def on_click(_):\n",
    "    out.clear_output()\n",
    "    with out:\n",
    "        print(\"Running…\")\n",
    "        try:\n",
    "            answer, sources = run_rag(\n",
    "                user_query=qbox.value,\n",
    "                top_k=topk_slider.value,\n",
    "                max_ctx_chars=MAX_CTX_CHARS,\n",
    "                temperature=TEMPERATURE,\n",
    "                max_output_tokens=MAX_OUTPUT_TOKENS\n",
    "            )\n",
    "            display(Markdown(\"### Answer\"))\n",
    "            display(Markdown(answer if isinstance(answer, str) and answer else \"_(no text)_\"))\n",
    "            if SHOW_SOURCES:\n",
    "                display(Markdown(\"### Sources (top-k)\"))\n",
    "                display(sources)\n",
    "        except Exception as e:\n",
    "            print(\"ERROR:\", e)\n",
    "\n",
    "run_btn.on_click(on_click)\n",
    "display(qbox, topk_slider, run_btn, out)\n"
   ]
  },
  {
   "cell_type": "code",
   "execution_count": null,
   "metadata": {
    "id": "ZpGLkMjfoj3W"
   },
   "outputs": [],
   "source": []
  }
 ],
 "metadata": {
  "colab": {
   "provenance": []
  },
  "kernelspec": {
   "display_name": "Python 3",
   "name": "python3"
  },
  "language_info": {
   "name": "python"
  }
 },
 "nbformat": 4,
 "nbformat_minor": 0
}
